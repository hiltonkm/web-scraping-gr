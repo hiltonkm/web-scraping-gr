# Learning how to web scrape (using goodreads account)
import pip
from bs4 import BeautifulSoup
import requests
import pandas as pd

url = 'https://en.wikipedia.org/wiki/List_of_countries_by_greenhouse_gas_emissions%27'
req = requests.get(url)
print(req)
print("hello world")

